{
 "cells": [
  {
   "cell_type": "markdown",
   "id": "c5921b63-33f3-4982-822a-8d1eff378a46",
   "metadata": {},
   "source": [
    "<font size=\"7\"> <h1><center> Reaction Rate Calculation </center></h1> </font>\n",
    "\n",
    "<font size=\"5\">\n",
    "       $<\\sigma v> = (\\frac{8}{\\pi\\mu})^{\\frac{1}{2}} (\\frac{1}{kT})^{\\frac{3}{2}}\\int _{0} ^{\\infty} \\sigma(E) E \\exp(-\\frac{E}{kT})dE$\n",
    "</font>"
   ]
  },
  {
   "cell_type": "code",
   "execution_count": 1,
   "id": "b1056b4f",
   "metadata": {},
   "outputs": [],
   "source": [
    "# Importing useful libraries\n",
    "\n",
    "import numpy as np\n",
    "import matplotlib.pyplot as plt\n",
    "\n",
    "%matplotlib widget\n",
    "import matplotlib as mpl\n",
    "\n",
    "mpl.rcParams['figure.dpi'] = 110                         # Risoluzione delle figure\n",
    "mpl.rcParams['figure.figsize'] = [8, 6]                  # Dimensioni delle figure"
   ]
  },
  {
   "cell_type": "code",
   "execution_count": 2,
   "id": "c921a508-9240-4854-98eb-12b12ed2faed",
   "metadata": {},
   "outputs": [],
   "source": [
    "# Defining constants for the calculation\n",
    "\n",
    "M0 = 1.00727647         # Proton mass        (amu)\n",
    "M1 = 12                 # Carbon-12 mass     (amu)\n",
    "Z0 = 1                  # Proton charge\n",
    "Z1 = 6                  # Carbon-12 charge\n",
    "Pi = np.pi              # Pi\n",
    "k  = 8.617333262e-2     # Boltzmann constant (MeV GK^(-1))\n",
    "Na = 6.02214076e23      # Avogadro number\n",
    "c  = 29979245800        # Speed of light cm/s\n",
    "\n",
    "mu = M0*M1/( M0 + M1 )  # Reduced mass\n",
    "\n",
    "MeVTokeV  = 1e3\n",
    "barnTocm2 = 1e-24"
   ]
  },
  {
   "cell_type": "code",
   "execution_count": 3,
   "id": "f36a1574-e9cc-4df8-8003-3c950e5a8d23",
   "metadata": {},
   "outputs": [],
   "source": [
    "# Importing the class to read the Sfactor data from file and setting it up\n",
    "\n",
    "from Data import Data\n",
    "\n",
    "data = Data( \"./data/c12.sfactor\", M0, M1, Z0, Z1 )          # The data file must be made by two columns: Energy (MeV) and S-factor (MeV barn)"
   ]
  },
  {
   "cell_type": "code",
   "execution_count": 4,
   "id": "5b5addab-7313-461d-8f5a-c79ab5fd1c57",
   "metadata": {},
   "outputs": [
    {
     "name": "stderr",
     "output_type": "stream",
     "text": [
      "No such comm: 3c717a460d544e8d8735357552603649\n",
      "No such comm: 3c717a460d544e8d8735357552603649\n",
      "No such comm: 3c717a460d544e8d8735357552603649\n",
      "No such comm: 3c717a460d544e8d8735357552603649\n",
      "No such comm: 3c717a460d544e8d8735357552603649\n",
      "No such comm: 3c717a460d544e8d8735357552603649\n"
     ]
    }
   ],
   "source": [
    "# Defining the function to be integrated\n",
    "\n",
    "def dReactionRate( Energy, T, CrossSections, BoltzmannDistribution, Energies ):\n",
    "    \n",
    "    Cross = data.GetCrossValue( Energy )\n",
    "    Boltz = np.exp( -Energy/( k*T ) )\n",
    "    dRR   = Cross*Energy*Boltz*barnTocm2\n",
    "    \n",
    "    Energies.append( Energy*MeVTokeV )\n",
    "    CrossSections.append( Cross )\n",
    "    BoltzmannDistribution.append( Boltz ) \n",
    "    \n",
    "    return dRR"
   ]
  },
  {
   "cell_type": "code",
   "execution_count": 5,
   "id": "b3455d9e-4f7f-4821-af62-b4d113615081",
   "metadata": {},
   "outputs": [],
   "source": [
    "# Defining the function that integrates\n",
    "\n",
    "nSteps = int( 1e5 )                                  # Steps number for integration\n",
    "\n",
    "def Integrate( Energy_init, Energy_final, T, CrossSections = [ ], BoltzmannDistribution = [ ], Energies = [ ] ):\n",
    "    integral = 0    \n",
    "    step     = (Energy_final - Energy_init)/nSteps     # Step of integration\n",
    "    Energy   = Energy_init + step/2                    # Adding half of the step for easy trapezoidal integration\n",
    "    for i in range( nSteps ):\n",
    "        dRR       = dReactionRate( Energy, T, CrossSections, BoltzmannDistribution, Energies )\n",
    "        Energy   += step\n",
    "        integral += dRR*step        \n",
    "    return integral"
   ]
  },
  {
   "cell_type": "code",
   "execution_count": 6,
   "id": "baba6856-6474-4a34-9d45-cd1158a74019",
   "metadata": {},
   "outputs": [],
   "source": [
    "# Let's create something interactive\n",
    "\n",
    "from Plot import CreatePlot\n",
    "from Widgets import CreateWidgets\n",
    "\n",
    "def InteractivePlot( T, scale ):\n",
    "\n",
    "    Energies              = [ ]\n",
    "    CrossSections         = [ ]\n",
    "    BoltzmannDistribution = [ ]\n",
    "    \n",
    "    const = np.sqrt( 8/( Pi * mu ) )/pow( k*T, 3/2 )\n",
    "    RR = Na*c*const*Integrate( 1e-5, 1, T, CrossSections, BoltzmannDistribution, Energies )\n",
    "    \n",
    "    CreatePlot( CrossSections, BoltzmannDistribution, Energies, scale )\n"
   ]
  },
  {
   "cell_type": "code",
   "execution_count": 7,
   "id": "4fa8a21a-6ed6-43eb-a58e-f4f058acc7fd",
   "metadata": {},
   "outputs": [
    {
     "data": {
      "application/vnd.jupyter.widget-view+json": {
       "model_id": "cd7135da001642db874255bd7bfb4f6b",
       "version_major": 2,
       "version_minor": 0
      },
      "text/plain": [
       "HBox(children=(VBox(children=(FloatText(value=0.01, description='Temperature (GK):', step=0.001, style=Descrip…"
      ]
     },
     "metadata": {},
     "output_type": "display_data"
    },
    {
     "data": {
      "application/vnd.jupyter.widget-view+json": {
       "model_id": "b5120cd82a1b41aaa0f98791057fe92b",
       "version_major": 2,
       "version_minor": 0
      },
      "text/plain": [
       "Output()"
      ]
     },
     "metadata": {},
     "output_type": "display_data"
    }
   ],
   "source": [
    "ui, w = CreateWidgets( InteractivePlot )\n",
    "display( ui, w )"
   ]
  },
  {
   "cell_type": "code",
   "execution_count": 8,
   "id": "d1ffc05c-b68c-45d7-8911-7ca180423a72",
   "metadata": {},
   "outputs": [
    {
     "name": "stdout",
     "output_type": "stream",
     "text": [
      "0.001 2.246011495494339e-49\n",
      "0.002 2.626489725500938e-37\n",
      "0.003 1.8625974048704965e-31\n",
      "0.004 9.08804892965956e-28\n",
      "0.005 3.807568843848299e-25\n",
      "0.006 3.800689788171651e-23\n",
      "0.007 1.4988348489879204e-21\n",
      "0.008 3.1033277543087774e-20\n",
      "0.009000000000000001 4.016357411485257e-19\n",
      "0.010000000000000002 3.641457574485534e-18\n"
     ]
    }
   ],
   "source": [
    "# Now we can do the integration for several temperatures inside the star\n",
    "\n",
    "nsteps = 10\n",
    "step   = 0.001\n",
    "T_init = 0.001                          # Starting temperature (GK)\n",
    "\n",
    "for i in range( nsteps ):\n",
    "    T = T_init + i*step\n",
    "    \n",
    "    const = np.sqrt( 8/( Pi * mu ) )/pow( k*T, 3/2 )\n",
    "    RR = Na*c*const*Integrate( 0.001, 1, T )\n",
    "    print( T, RR )"
   ]
  }
 ],
 "metadata": {
  "kernelspec": {
   "display_name": "Python 3",
   "language": "python",
   "name": "python3"
  },
  "language_info": {
   "codemirror_mode": {
    "name": "ipython",
    "version": 3
   },
   "file_extension": ".py",
   "mimetype": "text/x-python",
   "name": "python",
   "nbconvert_exporter": "python",
   "pygments_lexer": "ipython3",
   "version": "3.9.6"
  },
  "vscode": {
   "interpreter": {
    "hash": "31f2aee4e71d21fbe5cf8b01ff0e069b9275f58929596ceb00d14d90e3e16cd6"
   }
  }
 },
 "nbformat": 4,
 "nbformat_minor": 5
}
