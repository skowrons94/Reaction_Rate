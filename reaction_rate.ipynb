{
 "cells": [
  {
   "cell_type": "markdown",
   "id": "c5921b63-33f3-4982-822a-8d1eff378a46",
   "metadata": {},
   "source": [
    "<font size=\"7\"> <h1><center> Reaction Rate Calculation </center></h1> </font>\n",
    "\n",
    "<font size=\"5\">\n",
    "       $<\\sigma v> = (\\frac{8}{\\pi\\mu})^{\\frac{1}{2}} (\\frac{1}{kT})^{\\frac{3}{2}}\\int _{0} ^{\\infty} \\sigma(E) E \\exp(-\\frac{E}{kT})dE$\n",
    "</font>"
   ]
  },
  {
   "cell_type": "code",
   "execution_count": 1,
   "id": "b1056b4f",
   "metadata": {},
   "outputs": [],
   "source": [
    "# Importing useful libraries\n",
    "\n",
    "import numpy as np\n",
    "import matplotlib.pyplot as plt\n",
    "\n",
    "%matplotlib widget\n",
    "import matplotlib as mpl\n",
    "\n",
    "mpl.rcParams['figure.dpi'] = 110                         # Risoluzione delle figure\n",
    "mpl.rcParams['figure.figsize'] = [8, 6]                  # Dimensioni delle figure"
   ]
  },
  {
   "cell_type": "code",
   "execution_count": 2,
   "id": "c921a508-9240-4854-98eb-12b12ed2faed",
   "metadata": {},
   "outputs": [],
   "source": [
    "# Defining constants for the calculation\n",
    "\n",
    "M0 = 1.00727647         # Proton mass        (amu)\n",
    "M1 = 12                 # Carbon-12 mass     (amu)\n",
    "Z0 = 1                  # Proton charge\n",
    "Z1 = 6                  # Carbon-12 charge\n",
    "Pi = np.pi              # Pi\n",
    "k  = 8.617333262e-2     # Boltzmann constant (MeV GK^(-1))\n",
    "Na = 6.02214076e23      # Avogadro number\n",
    "c  = 29979245800        # Speed of light cm/s\n",
    "\n",
    "mu = M0*M1/( M0 + M1 )  # Reduced mass\n",
    "\n",
    "MeVTokeV  = 1e3\n",
    "barnTocm2 = 1e-24"
   ]
  },
  {
   "cell_type": "code",
   "execution_count": 3,
   "id": "f36a1574-e9cc-4df8-8003-3c950e5a8d23",
   "metadata": {},
   "outputs": [],
   "source": [
    "# Importing the class to read the Sfactor data from file and setting it up\n",
    "\n",
    "from Data import Data\n",
    "\n",
    "data = Data( \"./data/c12.sfactor\", M0, M1, Z0, Z1 )          # The data file must be made by two columns: Energy (MeV) and S-factor (MeV barn)"
   ]
  },
  {
   "cell_type": "code",
   "execution_count": 4,
   "id": "5b5addab-7313-461d-8f5a-c79ab5fd1c57",
   "metadata": {},
   "outputs": [
    {
     "name": "stderr",
     "output_type": "stream",
     "text": [
      "No such comm: c4abe6eeb63f4263b4d8e3018d3d2178\n",
      "No such comm: c4abe6eeb63f4263b4d8e3018d3d2178\n",
      "No such comm: c4abe6eeb63f4263b4d8e3018d3d2178\n",
      "No such comm: c4abe6eeb63f4263b4d8e3018d3d2178\n",
      "No such comm: c4abe6eeb63f4263b4d8e3018d3d2178\n",
      "No such comm: c4abe6eeb63f4263b4d8e3018d3d2178\n"
     ]
    }
   ],
   "source": [
    "# Defining the function to be integrated\n",
    "\n",
    "def dReactionRate( Energy, T, CrossSections, BoltzmannDistribution, Energies ):\n",
    "    \n",
    "    Cross = data.GetCrossValue( Energy )\n",
    "    Boltz = np.exp( -Energy/( k*T ) )\n",
    "    dRR   = Cross*Energy*Boltz*barnTocm2\n",
    "    \n",
    "    Energies.append( Energy*MeVTokeV )\n",
    "    CrossSections.append( Cross )\n",
    "    BoltzmannDistribution.append( Boltz ) \n",
    "    \n",
    "    return dRR"
   ]
  },
  {
   "cell_type": "code",
   "execution_count": 5,
   "id": "b3455d9e-4f7f-4821-af62-b4d113615081",
   "metadata": {},
   "outputs": [],
   "source": [
    "# Defining the function that integrates\n",
    "\n",
    "nSteps = int( 1e5 )                                  # Steps number for integration\n",
    "\n",
    "def Integrate( Energy_init, Energy_final, T, CrossSections = [ ], BoltzmannDistribution = [ ], Energies = [ ] ):\n",
    "    integral = 0    \n",
    "    step     = (Energy_final - Energy_init)/nSteps     # Step of integration\n",
    "    Energy   = Energy_init + step/2                    # Adding half of the step for easy trapezoidal integration\n",
    "    for i in range( nSteps ):\n",
    "        dRR       = dReactionRate( Energy, T, CrossSections, BoltzmannDistribution, Energies )\n",
    "        Energy   += step\n",
    "        integral += dRR*step        \n",
    "    return integral"
   ]
  },
  {
   "cell_type": "code",
   "execution_count": 6,
   "id": "baba6856-6474-4a34-9d45-cd1158a74019",
   "metadata": {},
   "outputs": [],
   "source": [
    "# Let's create something interactive\n",
    "\n",
    "from Plot import CreatePlot\n",
    "from Widgets import CreateWidgets\n",
    "\n",
    "def InteractivePlot( T, scale ):\n",
    "\n",
    "    Energies              = [ ]\n",
    "    CrossSections         = [ ]\n",
    "    BoltzmannDistribution = [ ]\n",
    "    \n",
    "    const = np.sqrt( 8/( Pi * mu ) )/pow( k*T, 3/2 )\n",
    "    RR = Na*c*const*Integrate( 1e-5, 1, T, CrossSections, BoltzmannDistribution, Energies )\n",
    "    \n",
    "    CreatePlot( CrossSections, BoltzmannDistribution, Energies, scale )\n"
   ]
  },
  {
   "cell_type": "code",
   "execution_count": 7,
   "id": "4fa8a21a-6ed6-43eb-a58e-f4f058acc7fd",
   "metadata": {},
   "outputs": [
    {
     "data": {
      "application/vnd.jupyter.widget-view+json": {
       "model_id": "cf60d419e1a14e8f8d00bc66371f1dc2",
       "version_major": 2,
       "version_minor": 0
      },
      "text/plain": [
       "HBox(children=(VBox(children=(FloatText(value=0.01, description='Temperature (GK):', step=0.001, style=Descrip…"
      ]
     },
     "metadata": {},
     "output_type": "display_data"
    },
    {
     "data": {
      "application/vnd.jupyter.widget-view+json": {
       "model_id": "c96ccc8978ba4e5982e9e8eb78124efc",
       "version_major": 2,
       "version_minor": 0
      },
      "text/plain": [
       "Output()"
      ]
     },
     "metadata": {},
     "output_type": "display_data"
    }
   ],
   "source": [
    "ui, w = CreateWidgets( InteractivePlot )\n",
    "display( ui, w )"
   ]
  },
  {
   "cell_type": "code",
   "execution_count": 8,
   "id": "d1ffc05c-b68c-45d7-8911-7ca180423a72",
   "metadata": {},
   "outputs": [
    {
     "name": "stdout",
     "output_type": "stream",
     "text": [
      "0.001 2.246011495494339e-49\n",
      "0.002 2.626489725500938e-37\n",
      "0.003 1.8625974048704965e-31\n",
      "0.004 9.08804892965956e-28\n",
      "0.005 3.807568843848299e-25\n",
      "0.006 3.800689788171651e-23\n",
      "0.007 1.4988348489879204e-21\n",
      "0.008 3.1033277543087774e-20\n",
      "0.009000000000000001 4.016357411485257e-19\n",
      "0.010000000000000002 3.641457574485534e-18\n",
      "0.011 2.501082099699709e-17\n",
      "0.012 1.375999873109399e-16\n",
      "0.013000000000000001 6.31794682321976e-16\n",
      "0.014000000000000002 2.4972778089846148e-15\n",
      "0.015 8.703360775937692e-15\n",
      "0.016 2.725294861531609e-14\n",
      "0.017 7.783646753693427e-14\n",
      "0.018000000000000002 2.0525584619243148e-13\n",
      "0.019000000000000003 5.047790075757138e-13\n",
      "0.02 1.1673777220602917e-12\n",
      "0.021 2.556541484353296e-12\n",
      "0.022000000000000002 5.333171988278907e-12\n",
      "0.023 1.0651042046909964e-11\n",
      "0.024 2.045250916299652e-11\n",
      "0.025 3.7902628226651014e-11\n",
      "0.026000000000000002 6.800949124460348e-11\n",
      "0.027000000000000003 1.1848947784036608e-10\n",
      "0.028 2.0094803720574123e-10\n",
      "0.029 3.3245951913520866e-10\n",
      "0.030000000000000002 5.376432834379124e-10\n",
      "0.031 8.513476798820236e-10\n",
      "0.032 1.3220683291580418e-09\n",
      "0.033 2.016242266952312e-09\n",
      "0.034 3.023574754681754e-09\n",
      "0.035 4.463570731746968e-09\n",
      "0.036000000000000004 6.4934578126354835e-09\n",
      "0.037000000000000005 9.317702255705418e-09\n",
      "0.038 1.3199333299865095e-08\n",
      "0.039 1.8473304546312127e-08\n",
      "0.04 2.556213353671108e-08\n",
      "0.041 3.499407224502701e-08\n",
      "0.042 4.742407177297281e-08\n",
      "0.043000000000000003 6.365781405054884e-08\n",
      "0.044000000000000004 8.467909174167786e-08\n",
      "0.045 1.1168082480388966e-07\n",
      "0.046 1.4610000822868073e-07\n",
      "0.047 1.8965689038679213e-07\n",
      "0.048 2.4439868512441647e-07\n",
      "0.049 3.127481233165023e-07\n",
      "0.05 3.9755715100759673e-07\n",
      "0.051000000000000004 5.021660815907866e-07\n",
      "0.052000000000000005 6.304685087340941e-07\n",
      "0.053000000000000005 7.869822850058578e-07\n",
      "0.054 9.76926868430024e-07\n",
      "0.055 1.2063073355750316e-06\n",
      "0.056 1.4820053553040958e-06\n",
      "0.057 1.8118774120537294e-06\n",
      "0.058 2.2048605615248536e-06\n",
      "0.059000000000000004 2.671085995028305e-06\n",
      "0.060000000000000005 3.2220006814910848e-06\n",
      "0.061 3.870497348366165e-06\n",
      "0.062 4.631053054454664e-06\n",
      "0.063 5.519876599012236e-06\n",
      "0.064 6.555065002533753e-06\n",
      "0.065 7.75676928533753e-06\n",
      "0.066 9.147369760574895e-06\n",
      "0.067 1.075166104861686e-05\n",
      "0.068 1.2597047009968909e-05\n",
      "0.069 1.4713745783990456e-05\n",
      "0.07 1.713500511078367e-05\n",
      "0.07100000000000001 1.9897328103731615e-05\n",
      "0.07200000000000001 2.3040709630315623e-05\n",
      "0.07300000000000001 2.6608883449104382e-05\n",
      "0.074 3.064958024116172e-05\n"
     ]
    },
    {
     "ename": "KeyboardInterrupt",
     "evalue": "",
     "output_type": "error",
     "traceback": [
      "\u001b[0;31m---------------------------------------------------------------------------\u001b[0m",
      "\u001b[0;31mKeyboardInterrupt\u001b[0m                         Traceback (most recent call last)",
      "Cell \u001b[0;32mIn[8], line 11\u001b[0m\n\u001b[1;32m      8\u001b[0m T \u001b[39m=\u001b[39m T_init \u001b[39m+\u001b[39m i\u001b[39m*\u001b[39mstep\n\u001b[1;32m     10\u001b[0m const \u001b[39m=\u001b[39m np\u001b[39m.\u001b[39msqrt( \u001b[39m8\u001b[39m\u001b[39m/\u001b[39m( Pi \u001b[39m*\u001b[39m mu ) )\u001b[39m/\u001b[39m\u001b[39mpow\u001b[39m( k\u001b[39m*\u001b[39mT, \u001b[39m3\u001b[39m\u001b[39m/\u001b[39m\u001b[39m2\u001b[39m )\n\u001b[0;32m---> 11\u001b[0m RR \u001b[39m=\u001b[39m Na\u001b[39m*\u001b[39mc\u001b[39m*\u001b[39mconst\u001b[39m*\u001b[39mIntegrate( \u001b[39m0.001\u001b[39;49m, \u001b[39m1\u001b[39;49m, T )\n\u001b[1;32m     12\u001b[0m \u001b[39mprint\u001b[39m( T, RR )\n",
      "Cell \u001b[0;32mIn[5], line 10\u001b[0m, in \u001b[0;36mIntegrate\u001b[0;34m(Energy_init, Energy_final, T, CrossSections, BoltzmannDistribution, Energies)\u001b[0m\n\u001b[1;32m      8\u001b[0m Energy   \u001b[39m=\u001b[39m Energy_init \u001b[39m+\u001b[39m step\u001b[39m/\u001b[39m\u001b[39m2\u001b[39m                    \u001b[39m# Adding half of the step for easy trapezoidal integration\u001b[39;00m\n\u001b[1;32m      9\u001b[0m \u001b[39mfor\u001b[39;00m i \u001b[39min\u001b[39;00m \u001b[39mrange\u001b[39m( nSteps ):\n\u001b[0;32m---> 10\u001b[0m     dRR       \u001b[39m=\u001b[39m dReactionRate( Energy, T, CrossSections, BoltzmannDistribution, Energies )\n\u001b[1;32m     11\u001b[0m     Energy   \u001b[39m+\u001b[39m\u001b[39m=\u001b[39m step\n\u001b[1;32m     12\u001b[0m     integral \u001b[39m+\u001b[39m\u001b[39m=\u001b[39m dRR\u001b[39m*\u001b[39mstep        \n",
      "Cell \u001b[0;32mIn[4], line 5\u001b[0m, in \u001b[0;36mdReactionRate\u001b[0;34m(Energy, T, CrossSections, BoltzmannDistribution, Energies)\u001b[0m\n\u001b[1;32m      3\u001b[0m \u001b[39mdef\u001b[39;00m \u001b[39mdReactionRate\u001b[39m( Energy, T, CrossSections, BoltzmannDistribution, Energies ):\n\u001b[0;32m----> 5\u001b[0m     Cross \u001b[39m=\u001b[39m data\u001b[39m.\u001b[39;49mGetCrossValue( Energy )\n\u001b[1;32m      6\u001b[0m     Boltz \u001b[39m=\u001b[39m np\u001b[39m.\u001b[39mexp( \u001b[39m-\u001b[39mEnergy\u001b[39m/\u001b[39m( k\u001b[39m*\u001b[39mT ) )\n\u001b[1;32m      7\u001b[0m     dRR   \u001b[39m=\u001b[39m Cross\u001b[39m*\u001b[39mEnergy\u001b[39m*\u001b[39mBoltz\u001b[39m*\u001b[39mbarnTocm2\n",
      "File \u001b[0;32m~/Desktop/didattica/notebooks/reaction_rate/Data.py:48\u001b[0m, in \u001b[0;36mData.GetCrossValue\u001b[0;34m(self, Energy)\u001b[0m\n\u001b[1;32m     46\u001b[0m Z       \u001b[39m=\u001b[39m \u001b[39mself\u001b[39m\u001b[39m.\u001b[39mZ0\u001b[39m*\u001b[39m\u001b[39mself\u001b[39m\u001b[39m.\u001b[39mZ1\n\u001b[1;32m     47\u001b[0m Mr      \u001b[39m=\u001b[39m \u001b[39mself\u001b[39m\u001b[39m.\u001b[39mM0\u001b[39m*\u001b[39m\u001b[39mself\u001b[39m\u001b[39m.\u001b[39mM1\u001b[39m/\u001b[39m( \u001b[39mself\u001b[39m\u001b[39m.\u001b[39mM0 \u001b[39m+\u001b[39m \u001b[39mself\u001b[39m\u001b[39m.\u001b[39mM1 )\n\u001b[0;32m---> 48\u001b[0m Sfactor \u001b[39m=\u001b[39m \u001b[39mself\u001b[39;49m\u001b[39m.\u001b[39;49mGetSfactorValue( Energy )\n\u001b[1;32m     50\u001b[0m Cross   \u001b[39m=\u001b[39m Sfactor\u001b[39m*\u001b[39mnp\u001b[39m.\u001b[39mexp( \u001b[39m-\u001b[39m\u001b[39m0.989534\u001b[39m\u001b[39m*\u001b[39mZ\u001b[39m*\u001b[39mnp\u001b[39m.\u001b[39msqrt( Mr\u001b[39m/\u001b[39m( Energy ) ) )\n\u001b[1;32m     51\u001b[0m Cross  \u001b[39m/\u001b[39m\u001b[39m=\u001b[39m Energy\n",
      "File \u001b[0;32m~/Desktop/didattica/notebooks/reaction_rate/Data.py:39\u001b[0m, in \u001b[0;36mData.GetSfactorValue\u001b[0;34m(self, Energy)\u001b[0m\n\u001b[1;32m     37\u001b[0m \u001b[39mdef\u001b[39;00m \u001b[39mGetSfactorValue\u001b[39m( \u001b[39mself\u001b[39m, Energy ):\n\u001b[0;32m---> 39\u001b[0m     idx \u001b[39m=\u001b[39m (np\u001b[39m.\u001b[39;49mabs( \u001b[39mself\u001b[39;49m\u001b[39m.\u001b[39;49mSfactorGraph[\u001b[39m0\u001b[39;49m] \u001b[39m-\u001b[39;49m Energy ))\u001b[39m.\u001b[39;49margmin()\n\u001b[1;32m     40\u001b[0m     Sfactor \u001b[39m=\u001b[39m \u001b[39mself\u001b[39m\u001b[39m.\u001b[39mSfactorGraph[\u001b[39m1\u001b[39m][idx]\n\u001b[1;32m     42\u001b[0m     \u001b[39mreturn\u001b[39;00m Sfactor\n",
      "\u001b[0;31mKeyboardInterrupt\u001b[0m: "
     ]
    }
   ],
   "source": [
    "# Now we can do the integration for several temperatures inside the star\n",
    "\n",
    "nsteps = 10\n",
    "step   = 0.001\n",
    "T_init = 0.001                          # Starting temperature (GK)\n",
    "\n",
    "for i in range( nsteps ):\n",
    "    T = T_init + i*step\n",
    "    \n",
    "    const = np.sqrt( 8/( Pi * mu ) )/pow( k*T, 3/2 )\n",
    "    RR = Na*c*const*Integrate( 0.001, 1, T )\n",
    "    print( T, RR )"
   ]
  }
 ],
 "metadata": {
  "kernelspec": {
   "display_name": "Python 3",
   "language": "python",
   "name": "python3"
  },
  "language_info": {
   "codemirror_mode": {
    "name": "ipython",
    "version": 3
   },
   "file_extension": ".py",
   "mimetype": "text/x-python",
   "name": "python",
   "nbconvert_exporter": "python",
   "pygments_lexer": "ipython3",
   "version": "3.9.6"
  },
  "vscode": {
   "interpreter": {
    "hash": "31f2aee4e71d21fbe5cf8b01ff0e069b9275f58929596ceb00d14d90e3e16cd6"
   }
  }
 },
 "nbformat": 4,
 "nbformat_minor": 5
}
